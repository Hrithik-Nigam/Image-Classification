{
  "nbformat": 4,
  "nbformat_minor": 0,
  "metadata": {
    "colab": {
      "name": "ImageClassification(Hrithik Nigam).ipynb",
      "provenance": [],
      "collapsed_sections": [],
      "mount_file_id": "1BZifFjqnTvTa25JZXGjSShY-JcpAG_LC",
      "authorship_tag": "ABX9TyO1atghI55dl0q12Zocbe9y",
      "include_colab_link": true
    },
    "kernelspec": {
      "name": "python3",
      "display_name": "Python 3"
    },
    "language_info": {
      "name": "python"
    }
  },
  "cells": [
    {
      "cell_type": "markdown",
      "metadata": {
        "id": "view-in-github",
        "colab_type": "text"
      },
      "source": [
        "<a href=\"https://colab.research.google.com/github/Hrithik-Nigam/Image-Classification/blob/main/ImageClassification(Hrithik_Nigam).ipynb\" target=\"_parent\"><img src=\"https://colab.research.google.com/assets/colab-badge.svg\" alt=\"Open In Colab\"/></a>"
      ]
    },
    {
      "cell_type": "markdown",
      "metadata": {
        "id": "c4z6uSWG2s_b"
      },
      "source": [
        "# Image Classification with support vector machine\n",
        "\n",
        "\n",
        "1.   Data gathering- done through Kaggle.\n",
        "2.   Splitting data into training and testing sets.\n",
        "3.   Importing models along with respective libraries.\n",
        "4.   Selecting best model through hyperperameter tuning using GridSearchCV().\n",
        "5.   Fitting data sets into models selected in step 4.\n",
        "6.   Checking the accuracy score and precision score.\n",
        "7.   Checking the output of arbitary data.\n",
        "\n",
        "\n"
      ]
    },
    {
      "cell_type": "code",
      "metadata": {
        "id": "puU0oGwFWu8w"
      },
      "source": [
        "import pandas as pd\n",
        "import matplotlib.pyplot as plt\n",
        "from skimage.io import imread\n",
        "from skimage.transform import resize\n",
        "import os\n",
        "import numpy as np"
      ],
      "execution_count": 50,
      "outputs": []
    },
    {
      "cell_type": "markdown",
      "metadata": {
        "id": "doL1vi6FI1n0"
      },
      "source": [
        "The data has been imported by mounting the drive."
      ]
    },
    {
      "cell_type": "code",
      "metadata": {
        "id": "ql70Q1uaXZgd"
      },
      "source": [
        "data_dir_bt='/content/drive/MyDrive/Image_classification/brain_tumor_dataset'\n",
        "output_img= []\n",
        "input_img=[]\n",
        "flat_img=[]\n",
        "categories_bt=['no', 'yes']"
      ],
      "execution_count": 51,
      "outputs": []
    },
    {
      "cell_type": "markdown",
      "metadata": {
        "id": "EHwU_yo2FP58"
      },
      "source": [
        "# Resizing the images for training brain tumor model"
      ]
    },
    {
      "cell_type": "code",
      "metadata": {
        "id": "0Cye8FU4Z1Rp"
      },
      "source": [
        "for cat1 in categories_bt:\n",
        "  class_num= categories_bt.index(cat1)\n",
        "  path= os.path.join(data_dir_bt, cat1)\n",
        "  for img in os.listdir(path):\n",
        "    img_array1 = imread(os.path.join(path, img))\n",
        "    resized_img=resize(img_array1, (150,150,3))\n",
        "    flat_img.append(np.ndarray.flatten(resized_img))\n",
        "    input_img.append(resized_img)\n",
        "    output_img.append(class_num)\n",
        "  \n",
        "flat_img= np.array(flat_img)\n",
        "input_img= np.array(input_img)\n",
        "output_img= np.array(output_img)"
      ],
      "execution_count": 52,
      "outputs": []
    },
    {
      "cell_type": "code",
      "metadata": {
        "id": "XgdEgMwx6WBu"
      },
      "source": [
        "data_dir_pn= '/content/drive/MyDrive/Image_classification/lungs'\n",
        "categories_pn=['pn', 'normal']\n",
        "output_img2= []\n",
        "input_img2=[]\n",
        "flat_img2=[]"
      ],
      "execution_count": 53,
      "outputs": []
    },
    {
      "cell_type": "markdown",
      "metadata": {
        "id": "h-7YBJPyFf31"
      },
      "source": [
        "# Resizing the images for training pneumonia model"
      ]
    },
    {
      "cell_type": "code",
      "metadata": {
        "id": "nBNwOmQB1M9y"
      },
      "source": [
        "for cat2 in categories_pn:\n",
        "  class_num2= categories_pn.index(cat2)\n",
        "  path2= os.path.join(data_dir_pn, cat2)\n",
        "  for img2 in os.listdir(path2):\n",
        "    img_array2 = imread(os.path.join(path2, img2))\n",
        "    resized_img2=resize(img_array2, (150,150,3))\n",
        "    flat_img2.append(np.ndarray.flatten(resized_img2))\n",
        "    input_img2.append(resized_img2)\n",
        "    output_img2.append(class_num2)\n",
        "  \n",
        "flat_img2= np.array(flat_img2)\n",
        "input_img2= np.array(input_img2)\n",
        "output_img2= np.array(output_img2)"
      ],
      "execution_count": 54,
      "outputs": []
    },
    {
      "cell_type": "code",
      "metadata": {
        "id": "m5_g-AmR6ayu"
      },
      "source": [
        "from sklearn.model_selection import train_test_split\n",
        "x_train, x_test, y_train, y_test= train_test_split(flat_img, output_img, test_size=0.25, random_state=27)"
      ],
      "execution_count": 55,
      "outputs": []
    },
    {
      "cell_type": "markdown",
      "metadata": {
        "id": "27dKD93XF58n"
      },
      "source": [
        "# Training the model using Support Vector Machine\n",
        "Here GridSearchCv is used for hyperparameter tuning"
      ]
    },
    {
      "cell_type": "code",
      "metadata": {
        "id": "4ejcM3k69iBO"
      },
      "source": [
        "from sklearn.model_selection import GridSearchCV\n",
        "from sklearn import svm\n",
        "clf_bt= GridSearchCV(estimator=svm.SVC(), param_grid= [\n",
        "  {'C': [1, 10, 100, 1000], 'kernel': ['linear']},\n",
        "  {'C': [1, 10, 100, 1000], 'gamma': [0.01, 0.001, 0.0001], 'kernel': ['rbf']},\n",
        " ])\n",
        "clf_bt.fit(x_train, y_train)\n",
        "y_pred=clf_bt.predict(x_test)"
      ],
      "execution_count": 56,
      "outputs": []
    },
    {
      "cell_type": "markdown",
      "metadata": {
        "id": "7U1uKzzVGfFV"
      },
      "source": [
        "Accuracy is computed as a float less than 1. So it has been subjected to some additional calculations to show accuracy in percentage."
      ]
    },
    {
      "cell_type": "code",
      "metadata": {
        "colab": {
          "base_uri": "https://localhost:8080/"
        },
        "id": "PyVtcjixIhOs",
        "outputId": "7b5d9110-a004-4530-ed88-8ccedcb96d48"
      },
      "source": [
        "from sklearn.metrics import accuracy_score,classification_report\n",
        "print(accuracy_score(y_pred,y_test)*100, '%')"
      ],
      "execution_count": 57,
      "outputs": [
        {
          "output_type": "stream",
          "text": [
            "78.125 %\n"
          ],
          "name": "stdout"
        }
      ]
    },
    {
      "cell_type": "markdown",
      "metadata": {
        "id": "5X8_qrmWGPXh"
      },
      "source": [
        "Precision table using classification report for brain tumor model.\n"
      ]
    },
    {
      "cell_type": "code",
      "metadata": {
        "colab": {
          "base_uri": "https://localhost:8080/"
        },
        "id": "o3nOpAJQcaFG",
        "outputId": "52ce3de6-3169-4ac9-b119-9d82e48f3827"
      },
      "source": [
        "print(classification_report(y_pred, y_test))"
      ],
      "execution_count": 58,
      "outputs": [
        {
          "output_type": "stream",
          "text": [
            "              precision    recall  f1-score   support\n",
            "\n",
            "           0       0.74      0.68      0.71        25\n",
            "           1       0.80      0.85      0.83        39\n",
            "\n",
            "    accuracy                           0.78        64\n",
            "   macro avg       0.77      0.76      0.77        64\n",
            "weighted avg       0.78      0.78      0.78        64\n",
            "\n"
          ],
          "name": "stdout"
        }
      ]
    },
    {
      "cell_type": "code",
      "metadata": {
        "id": "_rSrvEHucx9V"
      },
      "source": [
        "from sklearn.model_selection import train_test_split\n",
        "x_train2, x_test2, y_train2, y_test2= train_test_split(flat_img2, output_img2, test_size=0.25, random_state=27)"
      ],
      "execution_count": 59,
      "outputs": []
    },
    {
      "cell_type": "markdown",
      "metadata": {
        "id": "iJds_ej5GYuL"
      },
      "source": [
        "# Training the model using Support Vector Machine\n",
        "Here GridSearchCv is used for hyperparameter tuning"
      ]
    },
    {
      "cell_type": "code",
      "metadata": {
        "id": "_1LgNvGBcx9Z"
      },
      "source": [
        "from sklearn.model_selection import GridSearchCV\n",
        "from sklearn import svm\n",
        "clf_pn= GridSearchCV(estimator=svm.SVC(), param_grid= [\n",
        "  {'C': [1, 10, 100, 1000], 'kernel': ['linear']},\n",
        "  {'C': [1, 10, 100, 1000], 'gamma': [0.01, 0.001, 0.0001], 'kernel': ['rbf']},\n",
        " ])\n",
        "clf_pn.fit(x_train2, y_train2)\n",
        "y_pred2=clf_pn.predict(x_test2)"
      ],
      "execution_count": 60,
      "outputs": []
    },
    {
      "cell_type": "markdown",
      "metadata": {
        "id": "dqoo5NICG-rD"
      },
      "source": [
        "Accuracy is computed as a float less than 1. So it has been subjected to some additional calculations to show accuracy in percentage."
      ]
    },
    {
      "cell_type": "code",
      "metadata": {
        "colab": {
          "base_uri": "https://localhost:8080/"
        },
        "id": "BvAT1nRWcx9c",
        "outputId": "1086b81f-6035-468d-d917-fad59d1458e9"
      },
      "source": [
        "from sklearn.metrics import accuracy_score,classification_report\n",
        "print(accuracy_score(y_pred2,y_test2)*100,'%')"
      ],
      "execution_count": 61,
      "outputs": [
        {
          "output_type": "stream",
          "text": [
            "94.5945945945946 %\n"
          ],
          "name": "stdout"
        }
      ]
    },
    {
      "cell_type": "markdown",
      "metadata": {
        "id": "2fNWXVMFHBXJ"
      },
      "source": [
        "Precision table using classification report."
      ]
    },
    {
      "cell_type": "code",
      "metadata": {
        "colab": {
          "base_uri": "https://localhost:8080/"
        },
        "id": "BJU9IUbAcx9f",
        "outputId": "217d48ad-ba8f-451c-fa26-da167100780d"
      },
      "source": [
        "print(classification_report(y_pred2, y_test2))"
      ],
      "execution_count": 62,
      "outputs": [
        {
          "output_type": "stream",
          "text": [
            "              precision    recall  f1-score   support\n",
            "\n",
            "           0       0.86      0.86      0.86         7\n",
            "           1       0.97      0.97      0.97        30\n",
            "\n",
            "    accuracy                           0.95        37\n",
            "   macro avg       0.91      0.91      0.91        37\n",
            "weighted avg       0.95      0.95      0.95        37\n",
            "\n"
          ],
          "name": "stdout"
        }
      ]
    },
    {
      "cell_type": "markdown",
      "metadata": {
        "id": "xMs3USwaHIYV"
      },
      "source": [
        "# Final Implementation-\n",
        " \n",
        "Here the user will have to select the type of test they are performing.<br> First they have to select the model and then enter the image url.<br> The output will be displayed in a single sentence using f-string.\n",
        "\n"
      ]
    },
    {
      "cell_type": "code",
      "metadata": {
        "id": "RsFFc7oVzDPf"
      },
      "source": [
        "import pickle\n",
        "pickle.dump(clf_bt, open(\"bt_clfn.p\",\"wb\"))\n",
        "pickle.dump(clf_pn, open(\"pn_clfn.p\",\"wb\"))"
      ],
      "execution_count": 63,
      "outputs": []
    },
    {
      "cell_type": "markdown",
      "metadata": {
        "id": "PLmCQVltzvG3"
      },
      "source": [
        "Opening Pickle files again"
      ]
    },
    {
      "cell_type": "code",
      "metadata": {
        "colab": {
          "base_uri": "https://localhost:8080/",
          "height": 440
        },
        "id": "3nrQAtXo6jnt",
        "outputId": "ad48726c-9f3e-4eee-c4bb-8663d55b6955"
      },
      "source": [
        "import pickle\n",
        "from skimage.io import imread\n",
        "\n",
        "categories_bt=['no', 'yes']\n",
        "categories_pn=['pn', 'normal']\n",
        "\n",
        "print('Welcome, please select the option number for your choice: \\n1. for checking brain tumor \\n2. for checking pneumonia\\n')\n",
        "ans=int(input())\n",
        "if(ans==1):\n",
        "  final_model = pickle.load(open(\"bt_clfn.p\",\"rb\"))\n",
        "  flat_img =[]\n",
        "  print('Checking for brain tumor...\\n')\n",
        "  url=input('Enter the url for your image: ')\n",
        "  img_new= imread(url)\n",
        "  img_n_resize= resize(img_new,(150,150,3))\n",
        "  flat_img.append(np.ndarray.flatten(img_n_resize))\n",
        "  plt.imshow(img_new)\n",
        "  yout=final_model.predict(flat_img)\n",
        "  yout=categories_bt[yout[0]]\n",
        "  if(yout=='yes'):\n",
        "    st='A tumor can be observed.'\n",
        "  else:\n",
        "    st='No signs of any tumor.'\n",
        "  print(f'Predicted output: {st}')\n",
        "elif(ans==2):\n",
        "  final_model = pickle.load(open(\"pn_clfn.p\",\"rb\"))\n",
        "  flat_img =[]\n",
        "  print('Checking for pneumonia...\\n')\n",
        "  url=input('Enter the url for your image: ')\n",
        "  img_new= imread(url)\n",
        "  img_n_resize= resize(img_new,(150,150,3))\n",
        "  flat_img.append(np.ndarray.flatten(img_n_resize))\n",
        "  plt.imshow(img_new)\n",
        "  yout=final_model.predict(flat_img)\n",
        "  yout=categories_pn[yout[0]]\n",
        "  if(yout=='pn'):\n",
        "    st='The pneumonia test was positive.'\n",
        "  else:\n",
        "    st='The pneumonia test was negative.'\n",
        "  print(f'Predicted output: {st}')\n",
        "else:\n",
        "  print('Invalid choice!')"
      ],
      "execution_count": 67,
      "outputs": [
        {
          "output_type": "stream",
          "text": [
            "Welcome, please select the option number for your choice: \n",
            "1. for checking brain tumor \n",
            "2. for checking pneumonia\n",
            "\n",
            "2\n",
            "Checking for pneumonia...\n",
            "\n",
            "Enter the url for your image: https://thumbor.forbes.com/thumbor/960x0/https%3A%2F%2Fspecials-images.forbesimg.com%2Fimageserve%2F5fc3d8721aa1a19e3333fac2%2FNormal-chest-x-ray-in-a-healthy-adult-male%2F960x0.jpg\n",
            "Predicted output: The pneumonia test was negative.\n"
          ],
          "name": "stdout"
        },
        {
          "output_type": "display_data",
          "data": {
            "image/png": "[encoded data removed]",
            "text/plain": [
              "<Figure size 432x288 with 1 Axes>"
            ]
          },
          "metadata": {
            "needs_background": "light"
          }
        }
      ]
    },
    {
      "cell_type": "markdown",
      "metadata": {
        "id": "R_QQ4_IjktsX"
      },
      "source": [
        "#Deployment:\n",
        "<li>Using streamlit along with ngrok</li>"
      ]
    },
    {
      "cell_type": "code",
      "metadata": {
        "id": "cPzCTurQsIFt",
        "colab": {
          "base_uri": "https://localhost:8080/"
        },
        "outputId": "c27770c6-22b8-48b9-b007-0f6e2e90a211"
      },
      "source": [
        "!pip install streamlit"
      ],
      "execution_count": 1,
      "outputs": [
        {
          "output_type": "stream",
          "text": [
            "Requirement already satisfied: streamlit in /usr/local/lib/python3.7/dist-packages (0.87.0)\n",
            "Requirement already satisfied: tzlocal in /usr/local/lib/python3.7/dist-packages (from streamlit) (1.5.1)\n",
            "Requirement already satisfied: click<8.0,>=7.0 in /usr/local/lib/python3.7/dist-packages (from streamlit) (7.1.2)\n",
            "Requirement already satisfied: watchdog in /usr/local/lib/python3.7/dist-packages (from streamlit) (2.1.4)\n",
            "Requirement already satisfied: validators in /usr/local/lib/python3.7/dist-packages (from streamlit) (0.18.2)\n",
            "Requirement already satisfied: toml in /usr/local/lib/python3.7/dist-packages (from streamlit) (0.10.2)\n",
            "Requirement already satisfied: blinker in /usr/local/lib/python3.7/dist-packages (from streamlit) (1.4)\n",
            "Requirement already satisfied: protobuf!=3.11,>=3.6.0 in /usr/local/lib/python3.7/dist-packages (from streamlit) (3.17.3)\n",
            "Requirement already satisfied: python-dateutil in /usr/local/lib/python3.7/dist-packages (from streamlit) (2.8.2)\n",
            "Requirement already satisfied: packaging in /usr/local/lib/python3.7/dist-packages (from streamlit) (21.0)\n",
            "Requirement already satisfied: base58 in /usr/local/lib/python3.7/dist-packages (from streamlit) (2.1.0)\n",
            "Requirement already satisfied: pydeck>=0.1.dev5 in /usr/local/lib/python3.7/dist-packages (from streamlit) (0.6.2)\n",
            "Requirement already satisfied: astor in /usr/local/lib/python3.7/dist-packages (from streamlit) (0.8.1)\n",
            "Requirement already satisfied: tornado>=5.0 in /usr/local/lib/python3.7/dist-packages (from streamlit) (5.1.1)\n",
            "Requirement already satisfied: pyarrow in /usr/local/lib/python3.7/dist-packages (from streamlit) (3.0.0)\n",
            "Requirement already satisfied: altair>=3.2.0 in /usr/local/lib/python3.7/dist-packages (from streamlit) (4.1.0)\n",
            "Requirement already satisfied: gitpython!=3.1.19 in /usr/local/lib/python3.7/dist-packages (from streamlit) (3.1.18)\n",
            "Requirement already satisfied: pillow>=6.2.0 in /usr/local/lib/python3.7/dist-packages (from streamlit) (7.1.2)\n",
            "Requirement already satisfied: numpy in /usr/local/lib/python3.7/dist-packages (from streamlit) (1.19.5)\n",
            "Requirement already satisfied: requests in /usr/local/lib/python3.7/dist-packages (from streamlit) (2.23.0)\n",
            "Requirement already satisfied: pandas>=0.21.0 in /usr/local/lib/python3.7/dist-packages (from streamlit) (1.1.5)\n",
            "Requirement already satisfied: attrs in /usr/local/lib/python3.7/dist-packages (from streamlit) (21.2.0)\n",
            "Requirement already satisfied: cachetools>=4.0 in /usr/local/lib/python3.7/dist-packages (from streamlit) (4.2.2)\n",
            "Requirement already satisfied: jinja2 in /usr/local/lib/python3.7/dist-packages (from altair>=3.2.0->streamlit) (2.11.3)\n",
            "Requirement already satisfied: jsonschema in /usr/local/lib/python3.7/dist-packages (from altair>=3.2.0->streamlit) (2.6.0)\n",
            "Requirement already satisfied: entrypoints in /usr/local/lib/python3.7/dist-packages (from altair>=3.2.0->streamlit) (0.3)\n",
            "Requirement already satisfied: toolz in /usr/local/lib/python3.7/dist-packages (from altair>=3.2.0->streamlit) (0.11.1)\n",
            "Requirement already satisfied: gitdb<5,>=4.0.1 in /usr/local/lib/python3.7/dist-packages (from gitpython!=3.1.19->streamlit) (4.0.7)\n",
            "Requirement already satisfied: typing-extensions>=3.7.4.0 in /usr/local/lib/python3.7/dist-packages (from gitpython!=3.1.19->streamlit) (3.7.4.3)\n",
            "Requirement already satisfied: smmap<5,>=3.0.1 in /usr/local/lib/python3.7/dist-packages (from gitdb<5,>=4.0.1->gitpython!=3.1.19->streamlit) (4.0.0)\n",
            "Requirement already satisfied: pytz>=2017.2 in /usr/local/lib/python3.7/dist-packages (from pandas>=0.21.0->streamlit) (2018.9)\n",
            "Requirement already satisfied: six>=1.9 in /usr/local/lib/python3.7/dist-packages (from protobuf!=3.11,>=3.6.0->streamlit) (1.15.0)\n",
            "Requirement already satisfied: ipywidgets>=7.0.0 in /usr/local/lib/python3.7/dist-packages (from pydeck>=0.1.dev5->streamlit) (7.6.3)\n",
            "Requirement already satisfied: ipykernel>=5.1.2 in /usr/local/lib/python3.7/dist-packages (from pydeck>=0.1.dev5->streamlit) (6.2.0)\n",
            "Requirement already satisfied: traitlets>=4.3.2 in /usr/local/lib/python3.7/dist-packages (from pydeck>=0.1.dev5->streamlit) (5.0.5)\n",
            "Requirement already satisfied: jupyter-client<8.0 in /usr/local/lib/python3.7/dist-packages (from ipykernel>=5.1.2->pydeck>=0.1.dev5->streamlit) (5.3.5)\n",
            "Requirement already satisfied: argcomplete>=1.12.3 in /usr/local/lib/python3.7/dist-packages (from ipykernel>=5.1.2->pydeck>=0.1.dev5->streamlit) (1.12.3)\n",
            "Requirement already satisfied: debugpy<2.0,>=1.0.0 in /usr/local/lib/python3.7/dist-packages (from ipykernel>=5.1.2->pydeck>=0.1.dev5->streamlit) (1.0.0)\n",
            "Requirement already satisfied: ipython<8.0,>=7.23.1 in /usr/local/lib/python3.7/dist-packages (from ipykernel>=5.1.2->pydeck>=0.1.dev5->streamlit) (7.26.0)\n",
            "Requirement already satisfied: importlib-metadata<5 in /usr/local/lib/python3.7/dist-packages (from ipykernel>=5.1.2->pydeck>=0.1.dev5->streamlit) (4.6.4)\n",
            "Requirement already satisfied: matplotlib-inline<0.2.0,>=0.1.0 in /usr/local/lib/python3.7/dist-packages (from ipykernel>=5.1.2->pydeck>=0.1.dev5->streamlit) (0.1.2)\n",
            "Requirement already satisfied: zipp>=0.5 in /usr/local/lib/python3.7/dist-packages (from importlib-metadata<5->ipykernel>=5.1.2->pydeck>=0.1.dev5->streamlit) (3.5.0)\n",
            "Requirement already satisfied: jedi>=0.16 in /usr/local/lib/python3.7/dist-packages (from ipython<8.0,>=7.23.1->ipykernel>=5.1.2->pydeck>=0.1.dev5->streamlit) (0.18.0)\n",
            "Requirement already satisfied: pexpect>4.3 in /usr/local/lib/python3.7/dist-packages (from ipython<8.0,>=7.23.1->ipykernel>=5.1.2->pydeck>=0.1.dev5->streamlit) (4.8.0)\n",
            "Requirement already satisfied: pickleshare in /usr/local/lib/python3.7/dist-packages (from ipython<8.0,>=7.23.1->ipykernel>=5.1.2->pydeck>=0.1.dev5->streamlit) (0.7.5)\n",
            "Requirement already satisfied: prompt-toolkit!=3.0.0,!=3.0.1,<3.1.0,>=2.0.0 in /usr/local/lib/python3.7/dist-packages (from ipython<8.0,>=7.23.1->ipykernel>=5.1.2->pydeck>=0.1.dev5->streamlit) (3.0.20)\n",
            "Requirement already satisfied: backcall in /usr/local/lib/python3.7/dist-packages (from ipython<8.0,>=7.23.1->ipykernel>=5.1.2->pydeck>=0.1.dev5->streamlit) (0.2.0)\n",
            "Requirement already satisfied: decorator in /usr/local/lib/python3.7/dist-packages (from ipython<8.0,>=7.23.1->ipykernel>=5.1.2->pydeck>=0.1.dev5->streamlit) (4.4.2)\n",
            "Requirement already satisfied: setuptools>=18.5 in /usr/local/lib/python3.7/dist-packages (from ipython<8.0,>=7.23.1->ipykernel>=5.1.2->pydeck>=0.1.dev5->streamlit) (57.4.0)\n",
            "Requirement already satisfied: pygments in /usr/local/lib/python3.7/dist-packages (from ipython<8.0,>=7.23.1->ipykernel>=5.1.2->pydeck>=0.1.dev5->streamlit) (2.6.1)\n",
            "Requirement already satisfied: widgetsnbextension~=3.5.0 in /usr/local/lib/python3.7/dist-packages (from ipywidgets>=7.0.0->pydeck>=0.1.dev5->streamlit) (3.5.1)\n",
            "Requirement already satisfied: nbformat>=4.2.0 in /usr/local/lib/python3.7/dist-packages (from ipywidgets>=7.0.0->pydeck>=0.1.dev5->streamlit) (5.1.3)\n",
            "Requirement already satisfied: jupyterlab-widgets>=1.0.0 in /usr/local/lib/python3.7/dist-packages (from ipywidgets>=7.0.0->pydeck>=0.1.dev5->streamlit) (1.0.0)\n",
            "Requirement already satisfied: parso<0.9.0,>=0.8.0 in /usr/local/lib/python3.7/dist-packages (from jedi>=0.16->ipython<8.0,>=7.23.1->ipykernel>=5.1.2->pydeck>=0.1.dev5->streamlit) (0.8.2)\n",
            "Requirement already satisfied: MarkupSafe>=0.23 in /usr/local/lib/python3.7/dist-packages (from jinja2->altair>=3.2.0->streamlit) (2.0.1)\n",
            "Requirement already satisfied: pyzmq>=13 in /usr/local/lib/python3.7/dist-packages (from jupyter-client<8.0->ipykernel>=5.1.2->pydeck>=0.1.dev5->streamlit) (22.2.1)\n",
            "Requirement already satisfied: jupyter-core>=4.6.0 in /usr/local/lib/python3.7/dist-packages (from jupyter-client<8.0->ipykernel>=5.1.2->pydeck>=0.1.dev5->streamlit) (4.7.1)\n",
            "Requirement already satisfied: ipython-genutils in /usr/local/lib/python3.7/dist-packages (from nbformat>=4.2.0->ipywidgets>=7.0.0->pydeck>=0.1.dev5->streamlit) (0.2.0)\n",
            "Requirement already satisfied: ptyprocess>=0.5 in /usr/local/lib/python3.7/dist-packages (from pexpect>4.3->ipython<8.0,>=7.23.1->ipykernel>=5.1.2->pydeck>=0.1.dev5->streamlit) (0.7.0)\n",
            "Requirement already satisfied: wcwidth in /usr/local/lib/python3.7/dist-packages (from prompt-toolkit!=3.0.0,!=3.0.1,<3.1.0,>=2.0.0->ipython<8.0,>=7.23.1->ipykernel>=5.1.2->pydeck>=0.1.dev5->streamlit) (0.2.5)\n",
            "Requirement already satisfied: notebook>=4.4.1 in /usr/local/lib/python3.7/dist-packages (from widgetsnbextension~=3.5.0->ipywidgets>=7.0.0->pydeck>=0.1.dev5->streamlit) (5.3.1)\n",
            "Requirement already satisfied: nbconvert in /usr/local/lib/python3.7/dist-packages (from notebook>=4.4.1->widgetsnbextension~=3.5.0->ipywidgets>=7.0.0->pydeck>=0.1.dev5->streamlit) (5.6.1)\n",
            "Requirement already satisfied: terminado>=0.8.1 in /usr/local/lib/python3.7/dist-packages (from notebook>=4.4.1->widgetsnbextension~=3.5.0->ipywidgets>=7.0.0->pydeck>=0.1.dev5->streamlit) (0.11.0)\n",
            "Requirement already satisfied: Send2Trash in /usr/local/lib/python3.7/dist-packages (from notebook>=4.4.1->widgetsnbextension~=3.5.0->ipywidgets>=7.0.0->pydeck>=0.1.dev5->streamlit) (1.8.0)\n",
            "Requirement already satisfied: mistune<2,>=0.8.1 in /usr/local/lib/python3.7/dist-packages (from nbconvert->notebook>=4.4.1->widgetsnbextension~=3.5.0->ipywidgets>=7.0.0->pydeck>=0.1.dev5->streamlit) (0.8.4)\n",
            "Requirement already satisfied: defusedxml in /usr/local/lib/python3.7/dist-packages (from nbconvert->notebook>=4.4.1->widgetsnbextension~=3.5.0->ipywidgets>=7.0.0->pydeck>=0.1.dev5->streamlit) (0.7.1)\n",
            "Requirement already satisfied: bleach in /usr/local/lib/python3.7/dist-packages (from nbconvert->notebook>=4.4.1->widgetsnbextension~=3.5.0->ipywidgets>=7.0.0->pydeck>=0.1.dev5->streamlit) (4.0.0)\n",
            "Requirement already satisfied: testpath in /usr/local/lib/python3.7/dist-packages (from nbconvert->notebook>=4.4.1->widgetsnbextension~=3.5.0->ipywidgets>=7.0.0->pydeck>=0.1.dev5->streamlit) (0.5.0)\n",
            "Requirement already satisfied: pandocfilters>=1.4.1 in /usr/local/lib/python3.7/dist-packages (from nbconvert->notebook>=4.4.1->widgetsnbextension~=3.5.0->ipywidgets>=7.0.0->pydeck>=0.1.dev5->streamlit) (1.4.3)\n",
            "Requirement already satisfied: webencodings in /usr/local/lib/python3.7/dist-packages (from bleach->nbconvert->notebook>=4.4.1->widgetsnbextension~=3.5.0->ipywidgets>=7.0.0->pydeck>=0.1.dev5->streamlit) (0.5.1)\n",
            "Requirement already satisfied: pyparsing>=2.0.2 in /usr/local/lib/python3.7/dist-packages (from packaging->streamlit) (2.4.7)\n",
            "Requirement already satisfied: urllib3!=1.25.0,!=1.25.1,<1.26,>=1.21.1 in /usr/local/lib/python3.7/dist-packages (from requests->streamlit) (1.24.3)\n",
            "Requirement already satisfied: idna<3,>=2.5 in /usr/local/lib/python3.7/dist-packages (from requests->streamlit) (2.10)\n",
            "Requirement already satisfied: certifi>=2017.4.17 in /usr/local/lib/python3.7/dist-packages (from requests->streamlit) (2021.5.30)\n",
            "Requirement already satisfied: chardet<4,>=3.0.2 in /usr/local/lib/python3.7/dist-packages (from requests->streamlit) (3.0.4)\n"
          ],
          "name": "stdout"
        }
      ]
    },
    {
      "cell_type": "code",
      "metadata": {
        "colab": {
          "base_uri": "https://localhost:8080/"
        },
        "id": "pmBVByxoXdSP",
        "outputId": "ff215b50-ceab-4603-a327-e93eb16923e7"
      },
      "source": [
        "%%writefile myapp.py\n",
        "import streamlit as st\n",
        "import matplotlib.pyplot as plt\n",
        "import pandas as pd\n",
        "from skimage.io import imread\n",
        "from skimage.transform import resize\n",
        "import numpy as np\n",
        "import os\n",
        "import pickle\n",
        "import io\n",
        "from PIL import Image\n",
        "\n",
        "output_img= []\n",
        "input_img=[]\n",
        "flat_img=[]\n",
        "categories_pn=['pn', 'normal']\n",
        "categories_bt=['no', 'yes']\n",
        "\n",
        "st.title(\"Brain/Lung\")\n",
        "st.write('Welcome, please select the option number for your choice:')\n",
        "st.write('1. for checking brain tumor')\n",
        "st.write('2. for checking pneumonia.')\n",
        "ans=st.text_input(\"Choose 1 or 2:\")\n",
        "if int(ans)==1:\n",
        "  final_model = pickle.load(open(\"bt_clfn.p\",\"rb\"))\n",
        "  flat_img =[]\n",
        "  st.text('Checking for brain tumor...\\n')\n",
        "  st.text(\"Upload the image\")\n",
        "  upload_file = st.file_uploader(\"Choose an image\", type=\"jpg\")\n",
        "  if upload_file is not None:\n",
        "    img= Image.open(upload_file)\n",
        "    st.image(img, caption=\"Successfully Uploaded\")\n",
        "    img= np.array(img)\n",
        "    img_n_resize= resize(img,(150,150,3))\n",
        "    flat_img.append(np.ndarray.flatten(img_n_resize))\n",
        "    yout=final_model.predict(flat_img)\n",
        "    yout=categories_bt[yout[0]]\n",
        "    if st.button('Predict'):\n",
        "      if yout=='yes':\n",
        "        strn='A tumor can be observed.'\n",
        "      else:\n",
        "        strn='No signs of any tumor.'\n",
        "      st.title(strn)\n",
        "elif int(ans)==2:\n",
        "  final_model = pickle.load(open(\"pn_clfn.p\",\"rb\"))\n",
        "  flat_img =[]\n",
        "  print('Checking for pneumonia...\\n')\n",
        "  st.text(\"Upload the image\")\n",
        "  upload_file = st.file_uploader(\"Choose an image\", type=\"jpg\")\n",
        "  if upload_file is not None:\n",
        "    img= Image.open(upload_file)\n",
        "    st.image(img, caption=\"Successfully Uploaded\")\n",
        "    img=np.array(img)\n",
        "    img_n_resize= resize(img,(150,150,3))\n",
        "    flat_img.append(np.ndarray.flatten(img_n_resize))\n",
        "    yout=final_model.predict(flat_img)\n",
        "    yout=categories_pn[yout[0]]\n",
        "    if st.button('Predict'):\n",
        "      if yout=='pn':\n",
        "        strn='The pneumonia test was positive.'\n",
        "      else:\n",
        "        strn='The pneumonia test was negative.'\n",
        "      st.title(strn)\n",
        "else:\n",
        "  st.write('Invalid choice!')"
      ],
      "execution_count": 27,
      "outputs": [
        {
          "output_type": "stream",
          "text": [
            "Overwriting myapp.py\n"
          ],
          "name": "stdout"
        }
      ]
    },
    {
      "cell_type": "code",
      "metadata": {
        "id": "JhMGb9DYvZhK"
      },
      "source": [
        "!streamlit run --server.port 80 myapp.py --&>/dev/null&"
      ],
      "execution_count": 28,
      "outputs": []
    },
    {
      "cell_type": "code",
      "metadata": {
        "id": "2XB6u_ekX-Tl",
        "colab": {
          "base_uri": "https://localhost:8080/"
        },
        "outputId": "f65018be-a03a-43d1-9089-8d500c9b567f"
      },
      "source": [
        "! pip install pyngrok"
      ],
      "execution_count": 10,
      "outputs": [
        {
          "output_type": "stream",
          "text": [
            "Requirement already satisfied: pyngrok in /usr/local/lib/python3.7/dist-packages (5.0.6)\n",
            "Requirement already satisfied: PyYAML in /usr/local/lib/python3.7/dist-packages (from pyngrok) (3.13)\n"
          ],
          "name": "stdout"
        }
      ]
    },
    {
      "cell_type": "code",
      "metadata": {
        "colab": {
          "base_uri": "https://localhost:8080/"
        },
        "id": "cHs1sqr1g_Ok",
        "outputId": "e73b416e-5e87-4697-cd79-05cf55d25780"
      },
      "source": [
        "! ngrok authtoken 1x2lJ4Txk2eLZrsmqAemcMk5wy8_4JM97nLb4Vo4aYF4F22dQ"
      ],
      "execution_count": 11,
      "outputs": [
        {
          "output_type": "stream",
          "text": [
            "Authtoken saved to configuration file: /root/.ngrok2/ngrok.yml\n"
          ],
          "name": "stdout"
        }
      ]
    },
    {
      "cell_type": "code",
      "metadata": {
        "id": "O6SBjmY8hICw"
      },
      "source": [
        "from pyngrok import ngrok\n",
        "url = ngrok.connect(port = '8501')"
      ],
      "execution_count": 12,
      "outputs": []
    },
    {
      "cell_type": "code",
      "metadata": {
        "colab": {
          "base_uri": "https://localhost:8080/"
        },
        "id": "Oi1dNuFqjvX6",
        "outputId": "8a263885-cdec-435d-88ba-61356078e9c3"
      },
      "source": [
        "url"
      ],
      "execution_count": 7,
      "outputs": [
        {
          "output_type": "execute_result",
          "data": {
            "text/plain": [
              "<NgrokTunnel: \"http://9042-34-80-195-134.ngrok.io\" -> \"http://localhost:80\">"
            ]
          },
          "metadata": {},
          "execution_count": 7
        }
      ]
    },
    {
      "cell_type": "code",
      "metadata": {
        "id": "dPnZ_tQOoQl7"
      },
      "source": [
        "#ngrok.kill()"
      ],
      "execution_count": 23,
      "outputs": []
    },
    {
      "cell_type": "code",
      "metadata": {
        "id": "mWIUMPWtuUey"
      },
      "source": [
        ""
      ],
      "execution_count": 23,
      "outputs": []
    }
  ]
}