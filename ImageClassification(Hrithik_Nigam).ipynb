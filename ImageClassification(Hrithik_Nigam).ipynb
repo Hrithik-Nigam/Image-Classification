{
  "nbformat": 4,
  "nbformat_minor": 0,
  "metadata": {
    "colab": {
      "name": "ImageClassification(Hrithik Nigam).ipynb",
      "provenance": [],
      "collapsed_sections": [],
      "mount_file_id": "1BZifFjqnTvTa25JZXGjSShY-JcpAG_LC",
      "authorship_tag": "ABX9TyMaidACszq1f1EHXjiEN+6+",
      "include_colab_link": true
    },
    "kernelspec": {
      "name": "python3",
      "display_name": "Python 3"
    },
    "language_info": {
      "name": "python"
    }
  },
  "cells": [
    {
      "cell_type": "markdown",
      "metadata": {
        "id": "view-in-github",
        "colab_type": "text"
      },
      "source": [
        "<a href=\"https://colab.research.google.com/github/Hrithik-Nigam/Image-Classification/blob/main/ImageClassification(Hrithik_Nigam).ipynb\" target=\"_parent\"><img src=\"https://colab.research.google.com/assets/colab-badge.svg\" alt=\"Open In Colab\"/></a>"
      ]
    },
    {
      "cell_type": "markdown",
      "metadata": {
        "id": "c4z6uSWG2s_b"
      },
      "source": [
        "# Image Classification with support vector machine\n",
        "\n",
        "\n",
        "1.   Data gathering- done through Kaggle.\n",
        "2.   Splitting data into training and testing sets.\n",
        "3.   Importing models along with respective libraries.\n",
        "4.   Selecting best model through hyperperameter tuning using GridSearchCV().\n",
        "5.   Fitting data sets into models selected in step 4.\n",
        "6.   Checking the accuracy score and precision score.\n",
        "7.   Checking the output of arbitary data.\n",
        "\n",
        "\n"
      ]
    },
    {
      "cell_type": "code",
      "metadata": {
        "id": "puU0oGwFWu8w"
      },
      "source": [
        "import pandas as pd\n",
        "import matplotlib.pyplot as plt\n",
        "from skimage.io import imread\n",
        "from skimage.transform import resize\n",
        "import os\n",
        "import numpy as np"
      ],
      "execution_count": 3,
      "outputs": []
    },
    {
      "cell_type": "markdown",
      "metadata": {
        "id": "doL1vi6FI1n0"
      },
      "source": [
        "The data has been imported by mounting the drive."
      ]
    },
    {
      "cell_type": "code",
      "metadata": {
        "id": "ql70Q1uaXZgd"
      },
      "source": [
        "data_dir_bt='/content/drive/MyDrive/Image_classification/brain_tumor_dataset'\n",
        "output_img= []\n",
        "input_img=[]\n",
        "flat_img=[]\n",
        "categories_bt=['no', 'yes']"
      ],
      "execution_count": 4,
      "outputs": []
    },
    {
      "cell_type": "markdown",
      "metadata": {
        "id": "EHwU_yo2FP58"
      },
      "source": [
        "# Resizing the images for training brain tumor model"
      ]
    },
    {
      "cell_type": "code",
      "metadata": {
        "id": "0Cye8FU4Z1Rp"
      },
      "source": [
        "for cat1 in categories_bt:\n",
        "  class_num= categories_bt.index(cat1)\n",
        "  path= os.path.join(data_dir_bt, cat1)\n",
        "  for img in os.listdir(path):\n",
        "    img_array1 = imread(os.path.join(path, img))\n",
        "    resized_img=resize(img_array1, (150,150,3))\n",
        "    flat_img.append(np.ndarray.flatten(resized_img))\n",
        "    input_img.append(resized_img)\n",
        "    output_img.append(class_num)\n",
        "  \n",
        "flat_img= np.array(flat_img)\n",
        "input_img= np.array(input_img)\n",
        "output_img= np.array(output_img)"
      ],
      "execution_count": 5,
      "outputs": []
    },
    {
      "cell_type": "code",
      "metadata": {
        "id": "XgdEgMwx6WBu"
      },
      "source": [
        "data_dir_pn= '/content/drive/MyDrive/Image_classification/lungs'\n",
        "categories_pn=['pn', 'normal']\n",
        "output_img2= []\n",
        "input_img2=[]\n",
        "flat_img2=[]"
      ],
      "execution_count": 6,
      "outputs": []
    },
    {
      "cell_type": "markdown",
      "metadata": {
        "id": "h-7YBJPyFf31"
      },
      "source": [
        "# Resizing the images for training pneumonia model"
      ]
    },
    {
      "cell_type": "code",
      "metadata": {
        "id": "nBNwOmQB1M9y"
      },
      "source": [
        "for cat2 in categories_pn:\n",
        "  class_num2= categories_pn.index(cat2)\n",
        "  path2= os.path.join(data_dir_pn, cat2)\n",
        "  for img2 in os.listdir(path2):\n",
        "    img_array2 = imread(os.path.join(path2, img2))\n",
        "    resized_img2=resize(img_array2, (150,150,3))\n",
        "    flat_img2.append(np.ndarray.flatten(resized_img2))\n",
        "    input_img2.append(resized_img2)\n",
        "    output_img2.append(class_num2)\n",
        "  \n",
        "flat_img2= np.array(flat_img2)\n",
        "input_img2= np.array(input_img2)\n",
        "output_img2= np.array(output_img2)"
      ],
      "execution_count": 7,
      "outputs": []
    },
    {
      "cell_type": "code",
      "metadata": {
        "id": "m5_g-AmR6ayu"
      },
      "source": [
        "from sklearn.model_selection import train_test_split\n",
        "x_train, x_test, y_train, y_test= train_test_split(flat_img, output_img, test_size=0.25, random_state=27)"
      ],
      "execution_count": 8,
      "outputs": []
    },
    {
      "cell_type": "markdown",
      "metadata": {
        "id": "27dKD93XF58n"
      },
      "source": [
        "# Training the model using Support Vector Machine\n",
        "Here GridSearchCv is used for hyperparameter tuning"
      ]
    },
    {
      "cell_type": "code",
      "metadata": {
        "id": "4ejcM3k69iBO"
      },
      "source": [
        "from sklearn.model_selection import GridSearchCV\n",
        "from sklearn import svm\n",
        "clf_bt= GridSearchCV(estimator=svm.SVC(), param_grid= [\n",
        "  {'C': [1, 10, 100, 1000], 'kernel': ['linear']},\n",
        "  {'C': [1, 10, 100, 1000], 'gamma': [0.01, 0.001, 0.0001], 'kernel': ['rbf']},\n",
        " ])\n",
        "clf_bt.fit(x_train, y_train)\n",
        "y_pred=clf_bt.predict(x_test)"
      ],
      "execution_count": 9,
      "outputs": []
    },
    {
      "cell_type": "markdown",
      "metadata": {
        "id": "7U1uKzzVGfFV"
      },
      "source": [
        "Accuracy is computed as a float less than 1. So it has been subjected to some additional calculations to show accuracy in percentage."
      ]
    },
    {
      "cell_type": "code",
      "metadata": {
        "colab": {
          "base_uri": "https://localhost:8080/"
        },
        "id": "PyVtcjixIhOs",
        "outputId": "d8af9357-00b2-4a54-e5fe-4da01badc114"
      },
      "source": [
        "from sklearn.metrics import accuracy_score,classification_report\n",
        "print(accuracy_score(y_pred,y_test)*100, '%')"
      ],
      "execution_count": 10,
      "outputs": [
        {
          "output_type": "stream",
          "text": [
            "78.125 %\n"
          ],
          "name": "stdout"
        }
      ]
    },
    {
      "cell_type": "markdown",
      "metadata": {
        "id": "5X8_qrmWGPXh"
      },
      "source": [
        "Precision table using classification report for brain tumor model.\n"
      ]
    },
    {
      "cell_type": "code",
      "metadata": {
        "colab": {
          "base_uri": "https://localhost:8080/"
        },
        "id": "o3nOpAJQcaFG",
        "outputId": "6afd5b3e-836a-49cb-c555-7edabc741d52"
      },
      "source": [
        "print(classification_report(y_pred, y_test))"
      ],
      "execution_count": 11,
      "outputs": [
        {
          "output_type": "stream",
          "text": [
            "              precision    recall  f1-score   support\n",
            "\n",
            "           0       0.74      0.68      0.71        25\n",
            "           1       0.80      0.85      0.83        39\n",
            "\n",
            "    accuracy                           0.78        64\n",
            "   macro avg       0.77      0.76      0.77        64\n",
            "weighted avg       0.78      0.78      0.78        64\n",
            "\n"
          ],
          "name": "stdout"
        }
      ]
    },
    {
      "cell_type": "code",
      "metadata": {
        "id": "_rSrvEHucx9V"
      },
      "source": [
        "from sklearn.model_selection import train_test_split\n",
        "x_train2, x_test2, y_train2, y_test2= train_test_split(flat_img2, output_img2, test_size=0.25, random_state=27)"
      ],
      "execution_count": 12,
      "outputs": []
    },
    {
      "cell_type": "markdown",
      "metadata": {
        "id": "iJds_ej5GYuL"
      },
      "source": [
        "# Training the model using Support Vector Machine\n",
        "Here GridSearchCv is used for hyperparameter tuning"
      ]
    },
    {
      "cell_type": "code",
      "metadata": {
        "id": "_1LgNvGBcx9Z"
      },
      "source": [
        "from sklearn.model_selection import GridSearchCV\n",
        "from sklearn import svm\n",
        "clf_pn= GridSearchCV(estimator=svm.SVC(), param_grid= [\n",
        "  {'C': [1, 10, 100, 1000], 'kernel': ['linear']},\n",
        "  {'C': [1, 10, 100, 1000], 'gamma': [0.01, 0.001, 0.0001], 'kernel': ['rbf']},\n",
        " ])\n",
        "clf_pn.fit(x_train2, y_train2)\n",
        "y_pred2=clf_pn.predict(x_test2)"
      ],
      "execution_count": 13,
      "outputs": []
    },
    {
      "cell_type": "markdown",
      "metadata": {
        "id": "dqoo5NICG-rD"
      },
      "source": [
        "Accuracy is computed as a float less than 1. So it has been subjected to some additional calculations to show accuracy in percentage."
      ]
    },
    {
      "cell_type": "code",
      "metadata": {
        "colab": {
          "base_uri": "https://localhost:8080/"
        },
        "id": "BvAT1nRWcx9c",
        "outputId": "74182836-dd3f-420f-bcd6-e70d2afdc779"
      },
      "source": [
        "from sklearn.metrics import accuracy_score,classification_report\n",
        "print(accuracy_score(y_pred2,y_test2)*100,'%')"
      ],
      "execution_count": 14,
      "outputs": [
        {
          "output_type": "stream",
          "text": [
            "94.5945945945946 %\n"
          ],
          "name": "stdout"
        }
      ]
    },
    {
      "cell_type": "markdown",
      "metadata": {
        "id": "2fNWXVMFHBXJ"
      },
      "source": [
        "Precision table using classification report."
      ]
    },
    {
      "cell_type": "code",
      "metadata": {
        "colab": {
          "base_uri": "https://localhost:8080/"
        },
        "id": "BJU9IUbAcx9f",
        "outputId": "a076bd93-4ea8-47c4-b1f8-0985215e025a"
      },
      "source": [
        "print(classification_report(y_pred2, y_test2))"
      ],
      "execution_count": 15,
      "outputs": [
        {
          "output_type": "stream",
          "text": [
            "              precision    recall  f1-score   support\n",
            "\n",
            "           0       0.86      0.86      0.86         7\n",
            "           1       0.97      0.97      0.97        30\n",
            "\n",
            "    accuracy                           0.95        37\n",
            "   macro avg       0.91      0.91      0.91        37\n",
            "weighted avg       0.95      0.95      0.95        37\n",
            "\n"
          ],
          "name": "stdout"
        }
      ]
    },
    {
      "cell_type": "markdown",
      "metadata": {
        "id": "xMs3USwaHIYV"
      },
      "source": [
        "# Final Implementation-\n",
        " \n",
        "Here the user will have to select the type of test they are performing.<br> First they have to select the model and then enter the image url.<br> The output will be displayed in a single sentence using f-string.\n",
        "\n"
      ]
    },
    {
      "cell_type": "code",
      "metadata": {
        "id": "RsFFc7oVzDPf"
      },
      "source": [
        "import pickle\n",
        "pickle.dump(clf_bt, open(\"bt_clfn.p\",\"wb\"))\n",
        "pickle.dump(clf_pn, open(\"pn_clfn.p\",\"wb\"))"
      ],
      "execution_count": 16,
      "outputs": []
    },
    {
      "cell_type": "markdown",
      "metadata": {
        "id": "PLmCQVltzvG3"
      },
      "source": [
        ""
      ]
    },
    {
      "cell_type": "code",
      "metadata": {
        "colab": {
          "base_uri": "https://localhost:8080/"
        },
        "id": "3nrQAtXo6jnt",
        "outputId": "8eb00625-7906-4785-c808-1c0e5e85e9bb"
      },
      "source": [
        "import pickle\n",
        "print('Welcome, please select the option number for your choice: \\n1. for checking brain tumor \\n2. for checking pneumonia\\n')\n",
        "ans=int(input())\n",
        "if(ans==1):\n",
        "  final_model = pickle.load(open(\"bt_clfn.p\",\"rb\"))\n",
        "  flat_img =[]\n",
        "  print('Checking for brain tumor...\\n')\n",
        "  url=input('Enter the url for your image: ')\n",
        "  img_new= imread(url)\n",
        "  img_n_resize= resize(img_new,(150,150,3))\n",
        "  flat_img.append(np.ndarray.flatten(img_n_resize))\n",
        "  plt.imshow(img_new)\n",
        "  yout=final_model.predict(flat_img)\n",
        "  yout=categories_bt[yout[0]]\n",
        "  if(yout=='yes'):\n",
        "    st='A tumor can be observed.'\n",
        "  else:\n",
        "    st='No signs of any tumor.'\n",
        "  print(f'Predicted output: {st}')\n",
        "elif(ans==2):\n",
        "  final_model = pickle.load(open(\"pn_clfn.p\",\"rb\"))\n",
        "  flat_img =[]\n",
        "  print('Checking for pneumonia...\\n')\n",
        "  url=input('Enter the url for your image: ')\n",
        "  img_new= imread(url)\n",
        "  img_n_resize= resize(img_new,(150,150,3))\n",
        "  flat_img.append(np.ndarray.flatten(img_n_resize))\n",
        "  plt.imshow(img_new)\n",
        "  yout=final_model.predict(flat_img)\n",
        "  yout=categories_pn[yout[0]]\n",
        "  if(yout=='pn'):\n",
        "    st='The pneumonia test was positive.'\n",
        "  else:\n",
        "    st='The pneumonia test was negative.'\n",
        "  print(f'Predicted output: {st}')\n",
        "else:\n",
        "  print('Invalid choice!')"
      ],
      "execution_count": 17,
      "outputs": [
        {
          "output_type": "stream",
          "text": [
            "Welcome, please select the option number for your choice: \n",
            "1. for checking brain tumor \n",
            "2. for checking pneumonia\n",
            "\n",
            "3\n",
            "Invalid choice!\n"
          ],
          "name": "stdout"
        }
      ]
    },
    {
      "cell_type": "code",
      "metadata": {
        "id": "cPzCTurQsIFt",
        "colab": {
          "base_uri": "https://localhost:8080/",
          "height": 1000
        },
        "outputId": "b955c736-91a6-41d6-adc0-9b16071bf39e"
      },
      "source": [
        "!pip install streamlit"
      ],
      "execution_count": 18,
      "outputs": [
        {
          "output_type": "stream",
          "text": [
            "Collecting streamlit\n",
            "  Downloading streamlit-0.87.0-py2.py3-none-any.whl (8.0 MB)\n",
            "\u001b[K     |████████████████████████████████| 8.0 MB 5.0 MB/s \n",
            "\u001b[?25hRequirement already satisfied: cachetools>=4.0 in /usr/local/lib/python3.7/dist-packages (from streamlit) (4.2.2)\n",
            "Requirement already satisfied: numpy in /usr/local/lib/python3.7/dist-packages (from streamlit) (1.19.5)\n",
            "Collecting gitpython!=3.1.19\n",
            "  Downloading GitPython-3.1.18-py3-none-any.whl (170 kB)\n",
            "\u001b[K     |████████████████████████████████| 170 kB 47.1 MB/s \n",
            "\u001b[?25hRequirement already satisfied: pillow>=6.2.0 in /usr/local/lib/python3.7/dist-packages (from streamlit) (7.1.2)\n",
            "Requirement already satisfied: packaging in /usr/local/lib/python3.7/dist-packages (from streamlit) (21.0)\n",
            "Requirement already satisfied: pandas>=0.21.0 in /usr/local/lib/python3.7/dist-packages (from streamlit) (1.1.5)\n",
            "Collecting validators\n",
            "  Downloading validators-0.18.2-py3-none-any.whl (19 kB)\n",
            "Requirement already satisfied: protobuf!=3.11,>=3.6.0 in /usr/local/lib/python3.7/dist-packages (from streamlit) (3.17.3)\n",
            "Requirement already satisfied: altair>=3.2.0 in /usr/local/lib/python3.7/dist-packages (from streamlit) (4.1.0)\n",
            "Collecting watchdog\n",
            "  Downloading watchdog-2.1.4-py3-none-manylinux2014_x86_64.whl (75 kB)\n",
            "\u001b[K     |████████████████████████████████| 75 kB 3.1 MB/s \n",
            "\u001b[?25hRequirement already satisfied: click<8.0,>=7.0 in /usr/local/lib/python3.7/dist-packages (from streamlit) (7.1.2)\n",
            "Collecting base58\n",
            "  Downloading base58-2.1.0-py3-none-any.whl (5.6 kB)\n",
            "Requirement already satisfied: requests in /usr/local/lib/python3.7/dist-packages (from streamlit) (2.23.0)\n",
            "Requirement already satisfied: toml in /usr/local/lib/python3.7/dist-packages (from streamlit) (0.10.2)\n",
            "Collecting blinker\n",
            "  Downloading blinker-1.4.tar.gz (111 kB)\n",
            "\u001b[K     |████████████████████████████████| 111 kB 56.0 MB/s \n",
            "\u001b[?25hRequirement already satisfied: attrs in /usr/local/lib/python3.7/dist-packages (from streamlit) (21.2.0)\n",
            "Requirement already satisfied: python-dateutil in /usr/local/lib/python3.7/dist-packages (from streamlit) (2.8.2)\n",
            "Requirement already satisfied: pyarrow in /usr/local/lib/python3.7/dist-packages (from streamlit) (3.0.0)\n",
            "Requirement already satisfied: astor in /usr/local/lib/python3.7/dist-packages (from streamlit) (0.8.1)\n",
            "Requirement already satisfied: tornado>=5.0 in /usr/local/lib/python3.7/dist-packages (from streamlit) (5.1.1)\n",
            "Collecting pydeck>=0.1.dev5\n",
            "  Downloading pydeck-0.6.2-py2.py3-none-any.whl (4.2 MB)\n",
            "\u001b[K     |████████████████████████████████| 4.2 MB 41.6 MB/s \n",
            "\u001b[?25hRequirement already satisfied: tzlocal in /usr/local/lib/python3.7/dist-packages (from streamlit) (1.5.1)\n",
            "Requirement already satisfied: jsonschema in /usr/local/lib/python3.7/dist-packages (from altair>=3.2.0->streamlit) (2.6.0)\n",
            "Requirement already satisfied: jinja2 in /usr/local/lib/python3.7/dist-packages (from altair>=3.2.0->streamlit) (2.11.3)\n",
            "Requirement already satisfied: toolz in /usr/local/lib/python3.7/dist-packages (from altair>=3.2.0->streamlit) (0.11.1)\n",
            "Requirement already satisfied: entrypoints in /usr/local/lib/python3.7/dist-packages (from altair>=3.2.0->streamlit) (0.3)\n",
            "Collecting gitdb<5,>=4.0.1\n",
            "  Downloading gitdb-4.0.7-py3-none-any.whl (63 kB)\n",
            "\u001b[K     |████████████████████████████████| 63 kB 1.4 MB/s \n",
            "\u001b[?25hRequirement already satisfied: typing-extensions>=3.7.4.0 in /usr/local/lib/python3.7/dist-packages (from gitpython!=3.1.19->streamlit) (3.7.4.3)\n",
            "Collecting smmap<5,>=3.0.1\n",
            "  Downloading smmap-4.0.0-py2.py3-none-any.whl (24 kB)\n",
            "Requirement already satisfied: pytz>=2017.2 in /usr/local/lib/python3.7/dist-packages (from pandas>=0.21.0->streamlit) (2018.9)\n",
            "Requirement already satisfied: six>=1.9 in /usr/local/lib/python3.7/dist-packages (from protobuf!=3.11,>=3.6.0->streamlit) (1.15.0)\n",
            "Requirement already satisfied: traitlets>=4.3.2 in /usr/local/lib/python3.7/dist-packages (from pydeck>=0.1.dev5->streamlit) (5.0.5)\n",
            "Requirement already satisfied: ipywidgets>=7.0.0 in /usr/local/lib/python3.7/dist-packages (from pydeck>=0.1.dev5->streamlit) (7.6.3)\n",
            "Collecting ipykernel>=5.1.2\n",
            "  Downloading ipykernel-6.2.0-py3-none-any.whl (122 kB)\n",
            "\u001b[K     |████████████████████████████████| 122 kB 35.1 MB/s \n",
            "\u001b[?25hRequirement already satisfied: importlib-metadata<5 in /usr/local/lib/python3.7/dist-packages (from ipykernel>=5.1.2->pydeck>=0.1.dev5->streamlit) (4.6.4)\n",
            "Requirement already satisfied: argcomplete>=1.12.3 in /usr/local/lib/python3.7/dist-packages (from ipykernel>=5.1.2->pydeck>=0.1.dev5->streamlit) (1.12.3)\n",
            "Collecting ipython<8.0,>=7.23.1\n",
            "  Downloading ipython-7.26.0-py3-none-any.whl (786 kB)\n",
            "\u001b[K     |████████████████████████████████| 786 kB 39.2 MB/s \n",
            "\u001b[?25hRequirement already satisfied: debugpy<2.0,>=1.0.0 in /usr/local/lib/python3.7/dist-packages (from ipykernel>=5.1.2->pydeck>=0.1.dev5->streamlit) (1.0.0)\n",
            "Requirement already satisfied: jupyter-client<8.0 in /usr/local/lib/python3.7/dist-packages (from ipykernel>=5.1.2->pydeck>=0.1.dev5->streamlit) (5.3.5)\n",
            "Requirement already satisfied: matplotlib-inline<0.2.0,>=0.1.0 in /usr/local/lib/python3.7/dist-packages (from ipykernel>=5.1.2->pydeck>=0.1.dev5->streamlit) (0.1.2)\n",
            "Requirement already satisfied: zipp>=0.5 in /usr/local/lib/python3.7/dist-packages (from importlib-metadata<5->ipykernel>=5.1.2->pydeck>=0.1.dev5->streamlit) (3.5.0)\n",
            "Collecting prompt-toolkit!=3.0.0,!=3.0.1,<3.1.0,>=2.0.0\n",
            "  Downloading prompt_toolkit-3.0.20-py3-none-any.whl (370 kB)\n",
            "\u001b[K     |████████████████████████████████| 370 kB 42.1 MB/s \n",
            "\u001b[?25hRequirement already satisfied: decorator in /usr/local/lib/python3.7/dist-packages (from ipython<8.0,>=7.23.1->ipykernel>=5.1.2->pydeck>=0.1.dev5->streamlit) (4.4.2)\n",
            "Requirement already satisfied: setuptools>=18.5 in /usr/local/lib/python3.7/dist-packages (from ipython<8.0,>=7.23.1->ipykernel>=5.1.2->pydeck>=0.1.dev5->streamlit) (57.4.0)\n",
            "Requirement already satisfied: pygments in /usr/local/lib/python3.7/dist-packages (from ipython<8.0,>=7.23.1->ipykernel>=5.1.2->pydeck>=0.1.dev5->streamlit) (2.6.1)\n",
            "Requirement already satisfied: backcall in /usr/local/lib/python3.7/dist-packages (from ipython<8.0,>=7.23.1->ipykernel>=5.1.2->pydeck>=0.1.dev5->streamlit) (0.2.0)\n",
            "Requirement already satisfied: pexpect>4.3 in /usr/local/lib/python3.7/dist-packages (from ipython<8.0,>=7.23.1->ipykernel>=5.1.2->pydeck>=0.1.dev5->streamlit) (4.8.0)\n",
            "Requirement already satisfied: pickleshare in /usr/local/lib/python3.7/dist-packages (from ipython<8.0,>=7.23.1->ipykernel>=5.1.2->pydeck>=0.1.dev5->streamlit) (0.7.5)\n",
            "Requirement already satisfied: jedi>=0.16 in /usr/local/lib/python3.7/dist-packages (from ipython<8.0,>=7.23.1->ipykernel>=5.1.2->pydeck>=0.1.dev5->streamlit) (0.18.0)\n",
            "Requirement already satisfied: widgetsnbextension~=3.5.0 in /usr/local/lib/python3.7/dist-packages (from ipywidgets>=7.0.0->pydeck>=0.1.dev5->streamlit) (3.5.1)\n",
            "Requirement already satisfied: nbformat>=4.2.0 in /usr/local/lib/python3.7/dist-packages (from ipywidgets>=7.0.0->pydeck>=0.1.dev5->streamlit) (5.1.3)\n",
            "Requirement already satisfied: jupyterlab-widgets>=1.0.0 in /usr/local/lib/python3.7/dist-packages (from ipywidgets>=7.0.0->pydeck>=0.1.dev5->streamlit) (1.0.0)\n",
            "Requirement already satisfied: parso<0.9.0,>=0.8.0 in /usr/local/lib/python3.7/dist-packages (from jedi>=0.16->ipython<8.0,>=7.23.1->ipykernel>=5.1.2->pydeck>=0.1.dev5->streamlit) (0.8.2)\n",
            "Requirement already satisfied: MarkupSafe>=0.23 in /usr/local/lib/python3.7/dist-packages (from jinja2->altair>=3.2.0->streamlit) (2.0.1)\n",
            "Requirement already satisfied: pyzmq>=13 in /usr/local/lib/python3.7/dist-packages (from jupyter-client<8.0->ipykernel>=5.1.2->pydeck>=0.1.dev5->streamlit) (22.2.1)\n",
            "Requirement already satisfied: jupyter-core>=4.6.0 in /usr/local/lib/python3.7/dist-packages (from jupyter-client<8.0->ipykernel>=5.1.2->pydeck>=0.1.dev5->streamlit) (4.7.1)\n",
            "Requirement already satisfied: ipython-genutils in /usr/local/lib/python3.7/dist-packages (from nbformat>=4.2.0->ipywidgets>=7.0.0->pydeck>=0.1.dev5->streamlit) (0.2.0)\n",
            "Requirement already satisfied: ptyprocess>=0.5 in /usr/local/lib/python3.7/dist-packages (from pexpect>4.3->ipython<8.0,>=7.23.1->ipykernel>=5.1.2->pydeck>=0.1.dev5->streamlit) (0.7.0)\n",
            "Requirement already satisfied: wcwidth in /usr/local/lib/python3.7/dist-packages (from prompt-toolkit!=3.0.0,!=3.0.1,<3.1.0,>=2.0.0->ipython<8.0,>=7.23.1->ipykernel>=5.1.2->pydeck>=0.1.dev5->streamlit) (0.2.5)\n",
            "Requirement already satisfied: notebook>=4.4.1 in /usr/local/lib/python3.7/dist-packages (from widgetsnbextension~=3.5.0->ipywidgets>=7.0.0->pydeck>=0.1.dev5->streamlit) (5.3.1)\n",
            "Requirement already satisfied: terminado>=0.8.1 in /usr/local/lib/python3.7/dist-packages (from notebook>=4.4.1->widgetsnbextension~=3.5.0->ipywidgets>=7.0.0->pydeck>=0.1.dev5->streamlit) (0.11.0)\n",
            "Requirement already satisfied: Send2Trash in /usr/local/lib/python3.7/dist-packages (from notebook>=4.4.1->widgetsnbextension~=3.5.0->ipywidgets>=7.0.0->pydeck>=0.1.dev5->streamlit) (1.8.0)\n",
            "Requirement already satisfied: nbconvert in /usr/local/lib/python3.7/dist-packages (from notebook>=4.4.1->widgetsnbextension~=3.5.0->ipywidgets>=7.0.0->pydeck>=0.1.dev5->streamlit) (5.6.1)\n",
            "Requirement already satisfied: bleach in /usr/local/lib/python3.7/dist-packages (from nbconvert->notebook>=4.4.1->widgetsnbextension~=3.5.0->ipywidgets>=7.0.0->pydeck>=0.1.dev5->streamlit) (4.0.0)\n",
            "Requirement already satisfied: mistune<2,>=0.8.1 in /usr/local/lib/python3.7/dist-packages (from nbconvert->notebook>=4.4.1->widgetsnbextension~=3.5.0->ipywidgets>=7.0.0->pydeck>=0.1.dev5->streamlit) (0.8.4)\n",
            "Requirement already satisfied: pandocfilters>=1.4.1 in /usr/local/lib/python3.7/dist-packages (from nbconvert->notebook>=4.4.1->widgetsnbextension~=3.5.0->ipywidgets>=7.0.0->pydeck>=0.1.dev5->streamlit) (1.4.3)\n",
            "Requirement already satisfied: defusedxml in /usr/local/lib/python3.7/dist-packages (from nbconvert->notebook>=4.4.1->widgetsnbextension~=3.5.0->ipywidgets>=7.0.0->pydeck>=0.1.dev5->streamlit) (0.7.1)\n",
            "Requirement already satisfied: testpath in /usr/local/lib/python3.7/dist-packages (from nbconvert->notebook>=4.4.1->widgetsnbextension~=3.5.0->ipywidgets>=7.0.0->pydeck>=0.1.dev5->streamlit) (0.5.0)\n",
            "Requirement already satisfied: webencodings in /usr/local/lib/python3.7/dist-packages (from bleach->nbconvert->notebook>=4.4.1->widgetsnbextension~=3.5.0->ipywidgets>=7.0.0->pydeck>=0.1.dev5->streamlit) (0.5.1)\n",
            "Requirement already satisfied: pyparsing>=2.0.2 in /usr/local/lib/python3.7/dist-packages (from packaging->streamlit) (2.4.7)\n",
            "Requirement already satisfied: idna<3,>=2.5 in /usr/local/lib/python3.7/dist-packages (from requests->streamlit) (2.10)\n",
            "Requirement already satisfied: chardet<4,>=3.0.2 in /usr/local/lib/python3.7/dist-packages (from requests->streamlit) (3.0.4)\n",
            "Requirement already satisfied: certifi>=2017.4.17 in /usr/local/lib/python3.7/dist-packages (from requests->streamlit) (2021.5.30)\n",
            "Requirement already satisfied: urllib3!=1.25.0,!=1.25.1,<1.26,>=1.21.1 in /usr/local/lib/python3.7/dist-packages (from requests->streamlit) (1.24.3)\n",
            "Building wheels for collected packages: blinker\n",
            "  Building wheel for blinker (setup.py) ... \u001b[?25l\u001b[?25hdone\n",
            "  Created wheel for blinker: filename=blinker-1.4-py3-none-any.whl size=13478 sha256=8cc05a0b716ca7f74d55cf56e71b75213e757a70c552230e560642916fbc68a4\n",
            "  Stored in directory: /root/.cache/pip/wheels/22/f5/18/df711b66eb25b21325c132757d4314db9ac5e8dabeaf196eab\n",
            "Successfully built blinker\n",
            "Installing collected packages: prompt-toolkit, ipython, ipykernel, smmap, gitdb, watchdog, validators, pydeck, gitpython, blinker, base58, streamlit\n",
            "  Attempting uninstall: prompt-toolkit\n",
            "    Found existing installation: prompt-toolkit 1.0.18\n",
            "    Uninstalling prompt-toolkit-1.0.18:\n",
            "      Successfully uninstalled prompt-toolkit-1.0.18\n",
            "  Attempting uninstall: ipython\n",
            "    Found existing installation: ipython 5.5.0\n",
            "    Uninstalling ipython-5.5.0:\n",
            "      Successfully uninstalled ipython-5.5.0\n",
            "  Attempting uninstall: ipykernel\n",
            "    Found existing installation: ipykernel 4.10.1\n",
            "    Uninstalling ipykernel-4.10.1:\n",
            "      Successfully uninstalled ipykernel-4.10.1\n",
            "\u001b[31mERROR: pip's dependency resolver does not currently take into account all the packages that are installed. This behaviour is the source of the following dependency conflicts.\n",
            "jupyter-console 5.2.0 requires prompt-toolkit<2.0.0,>=1.0.0, but you have prompt-toolkit 3.0.20 which is incompatible.\n",
            "google-colab 1.0.0 requires ipykernel~=4.10, but you have ipykernel 6.2.0 which is incompatible.\n",
            "google-colab 1.0.0 requires ipython~=5.5.0, but you have ipython 7.26.0 which is incompatible.\u001b[0m\n",
            "Successfully installed base58-2.1.0 blinker-1.4 gitdb-4.0.7 gitpython-3.1.18 ipykernel-6.2.0 ipython-7.26.0 prompt-toolkit-3.0.20 pydeck-0.6.2 smmap-4.0.0 streamlit-0.87.0 validators-0.18.2 watchdog-2.1.4\n"
          ],
          "name": "stdout"
        },
        {
          "output_type": "display_data",
          "data": {
            "application/vnd.colab-display-data+json": {
              "pip_warning": {
                "packages": [
                  "IPython",
                  "ipykernel",
                  "prompt_toolkit"
                ]
              }
            }
          },
          "metadata": {}
        }
      ]
    },
    {
      "cell_type": "code",
      "metadata": {
        "colab": {
          "base_uri": "https://localhost:8080/"
        },
        "id": "pmBVByxoXdSP",
        "outputId": "ace88f36-da25-4f27-b9fa-09c5262f492a"
      },
      "source": [
        "%%writefile myapp.py\n",
        "import streamlit as st\n",
        "import pandas as pd\n",
        "from skimage.io import imread\n",
        "from skimage.transform import resize\n",
        "import numpy as np\n",
        "import pickle\n",
        "from PIL import Image\n",
        "st.title(\"Brain/Lung\")\n",
        "st.write('Welcome, please select the option number for your choice:')\n",
        "st.write('1. for checking brain tumor')\n",
        "st.write('2. for checking pneumonia.')\n",
        "ans=st.text_input(\"Choose 1 or 2:\")\n",
        "if int(ans)==1:\n",
        "  final_model = pickle.load(open(\"bt_clfn.p\",\"rb\"))\n",
        "  flat_img =[]\n",
        "  st.text('Checking for brain tumor...\\n')\n",
        "  st.text(\"Upload the image\")\n",
        "  upload_file = st.file_uploader(\"Choose an image\", type=\"jpg\")\n",
        "  if upload_file is not None:\n",
        "    img= st.open(upload_file)\n",
        "    st.image(img, caption=\"Successfully Uploaded\")\n",
        "    img_new= imread(img)\n",
        "    img_n_resize= resize(img_new,(150,150,3))\n",
        "    flat_img.append(np.ndarray.flatten(img_n_resize))\n",
        "    yout=final_model.predict(flat_img)\n",
        "    yout=categories_bt[yout[0]]\n",
        "    if yout=='yes':\n",
        "      strn='A tumor can be observed.'\n",
        "    else:\n",
        "      strn='No signs of any tumor.'\n",
        "  st.title(strn)\n",
        "elif int(ans)==2:\n",
        "  final_model = pickle.load(open(\"pn_clfn.p\",\"rb\"))\n",
        "  flat_img =[]\n",
        "  print('Checking for pneumonia...\\n')\n",
        "  st.text(\"Upload the image\")\n",
        "  upload_file = st.file_uploader(\"Choose an image\", type=\"jpg\")\n",
        "  if upload_file is not None:\n",
        "    img= st.open(upload_file)\n",
        "    st.image(img, caption=\"Successfully Uploaded\")\n",
        "    img_new= imread(img)\n",
        "    img_n_resize= resize(img_new,(150,150,3))\n",
        "    flat_img.append(np.ndarray.flatten(img_n_resize))\n",
        "    yout=final_model.predict(flat_img)\n",
        "    yout=categories_pn[yout[0]]\n",
        "    if yout=='pn':\n",
        "      strn='The pneumonia test was positive.'\n",
        "    else:\n",
        "      strn='The pneumonia test was negative.'\n",
        "    st.title(strn)\n",
        "else:\n",
        "  st.write('Invalid choice!')"
      ],
      "execution_count": 43,
      "outputs": [
        {
          "output_type": "stream",
          "text": [
            "Overwriting myapp.py\n"
          ],
          "name": "stdout"
        }
      ]
    },
    {
      "cell_type": "code",
      "metadata": {
        "id": "JhMGb9DYvZhK"
      },
      "source": [
        "!streamlit run --server.port 80 myapp.py --&>/dev/null&"
      ],
      "execution_count": 44,
      "outputs": []
    },
    {
      "cell_type": "code",
      "metadata": {
        "id": "2XB6u_ekX-Tl",
        "colab": {
          "base_uri": "https://localhost:8080/"
        },
        "outputId": "c138f3dd-054c-415b-d61d-d54101c525af"
      },
      "source": [
        "! pip install pyngrok"
      ],
      "execution_count": 35,
      "outputs": [
        {
          "output_type": "stream",
          "text": [
            "Requirement already satisfied: pyngrok in /usr/local/lib/python3.7/dist-packages (5.0.6)\n",
            "Requirement already satisfied: PyYAML in /usr/local/lib/python3.7/dist-packages (from pyngrok) (3.13)\n"
          ],
          "name": "stdout"
        }
      ]
    },
    {
      "cell_type": "code",
      "metadata": {
        "colab": {
          "base_uri": "https://localhost:8080/"
        },
        "id": "cHs1sqr1g_Ok",
        "outputId": "9f4e7541-fc0d-46ec-affb-27448333686d"
      },
      "source": [
        "! ngrok authtoken 1x2lJ4Txk2eLZrsmqAemcMk5wy8_4JM97nLb4Vo4aYF4F22dQ"
      ],
      "execution_count": 36,
      "outputs": [
        {
          "output_type": "stream",
          "text": [
            "Authtoken saved to configuration file: /root/.ngrok2/ngrok.yml\n"
          ],
          "name": "stdout"
        }
      ]
    },
    {
      "cell_type": "code",
      "metadata": {
        "id": "9RiPefOuoGA5"
      },
      "source": [
        ""
      ],
      "execution_count": 30,
      "outputs": []
    },
    {
      "cell_type": "code",
      "metadata": {
        "id": "O6SBjmY8hICw"
      },
      "source": [
        "from pyngrok import ngrok\n",
        "url = ngrok.connect(port = '8501')"
      ],
      "execution_count": 31,
      "outputs": []
    },
    {
      "cell_type": "code",
      "metadata": {
        "colab": {
          "base_uri": "https://localhost:8080/"
        },
        "id": "Oi1dNuFqjvX6",
        "outputId": "3b75ad2b-4e90-4f50-8e0c-6da78fe88d07"
      },
      "source": [
        "url"
      ],
      "execution_count": 32,
      "outputs": [
        {
          "output_type": "execute_result",
          "data": {
            "text/plain": [
              "<NgrokTunnel: \"http://e3de-34-75-152-20.ngrok.io\" -> \"http://localhost:80\">"
            ]
          },
          "metadata": {},
          "execution_count": 32
        }
      ]
    },
    {
      "cell_type": "code",
      "metadata": {
        "id": "dPnZ_tQOoQl7"
      },
      "source": [
        "ngrok.kill()"
      ],
      "execution_count": 26,
      "outputs": []
    },
    {
      "cell_type": "code",
      "metadata": {
        "id": "mWIUMPWtuUey"
      },
      "source": [
        ""
      ],
      "execution_count": 25,
      "outputs": []
    }
  ]
}